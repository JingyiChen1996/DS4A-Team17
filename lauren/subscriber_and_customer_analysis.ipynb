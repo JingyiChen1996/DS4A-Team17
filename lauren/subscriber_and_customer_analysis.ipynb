{
 "cells": [
  {
   "cell_type": "markdown",
   "metadata": {},
   "source": [
    "## Analyzing subscriber and customer Citi Bike data"
   ]
  },
  {
   "cell_type": "markdown",
   "metadata": {},
   "source": [
    "### Goal 1: import subscriber and customer data"
   ]
  },
  {
   "cell_type": "code",
   "execution_count": 159,
   "metadata": {},
   "outputs": [],
   "source": [
    "import pandas as pd\n",
    "import plotly.express as px\n",
    "import matplotlib.pyplot as plt\n",
    "import seaborn as sns\n",
    "import numpy as np\n",
    "plt.style.use('seaborn')"
   ]
  },
  {
   "cell_type": "code",
   "execution_count": 92,
   "metadata": {},
   "outputs": [],
   "source": [
    "# # Disable the orca response timeout.\n",
    "# import plotly.io._orca\n",
    "# import retrying\n",
    "# unwrapped = plotly.io._orca.request_image_with_retrying.__wrapped__\n",
    "# wrapped = retrying.retry(wait_random_min=1000)(unwrapped)\n",
    "# plotly.io._orca.request_image_with_retrying = wrapped"
   ]
  },
  {
   "cell_type": "code",
   "execution_count": 93,
   "metadata": {},
   "outputs": [],
   "source": [
    "# import 2019 trip data\n",
    "df_2019_01 = pd.read_csv('data/201901-citibike-tripdata.csv.zip')\n",
    "df_2019_02 = pd.read_csv('data/201902-citibike-tripdata.csv.zip')\n",
    "df_2019_03 = pd.read_csv('data/201903-citibike-tripdata.csv.zip')\n",
    "df_2019_04 = pd.read_csv('data/201904-citibike-tripdata.csv.zip')\n",
    "df_2019_05 = pd.read_csv('data/201905-citibike-tripdata.csv.zip')\n",
    "df_2019_06 = pd.read_csv('data/201906-citibike-tripdata.csv.zip')\n",
    "df_2019_07 = pd.read_csv('data/201907-citibike-tripdata.csv.zip')\n",
    "df_2019_08 = pd.read_csv('data/201908-citibike-tripdata.csv.zip')"
   ]
  },
  {
   "cell_type": "code",
   "execution_count": 94,
   "metadata": {},
   "outputs": [],
   "source": [
    "# import 2020 trip data\n",
    "df_2020_01 = pd.read_csv('data/202001-citibike-tripdata.csv.zip')\n",
    "df_2020_02 = pd.read_csv('data/202002-citibike-tripdata.csv.zip')\n",
    "df_2020_03 = pd.read_csv('data/202003-citibike-tripdata.csv.zip')\n",
    "df_2020_04 = pd.read_csv('data/202004-citibike-tripdata.csv.zip')\n",
    "df_2020_05 = pd.read_csv('data/202005-citibike-tripdata.csv.zip')\n",
    "df_2020_06 = pd.read_csv('data/202006-citibike-tripdata.csv.zip')\n",
    "df_2020_07 = pd.read_csv('data/202007-citibike-tripdata.csv.zip')\n",
    "df_2020_08 = pd.read_csv('data/202008-citibike-tripdata.csv.zip')"
   ]
  },
  {
   "cell_type": "code",
   "execution_count": 95,
   "metadata": {},
   "outputs": [],
   "source": [
    "# concatenate data by year\n",
    "df_2019 = pd.concat([df_2019_01, df_2019_02, df_2019_03, df_2019_04, \n",
    "                     df_2019_05, df_2019_06, df_2019_07, df_2019_08])\n",
    "df_2020 = pd.concat([df_2020_01, df_2020_02, df_2020_03, df_2020_04, \n",
    "                     df_2020_05, df_2020_06, df_2020_07, df_2020_08])"
   ]
  },
  {
   "cell_type": "code",
   "execution_count": 96,
   "metadata": {},
   "outputs": [],
   "source": [
    "# add column denoting year\n",
    "df_2019['year'] = \"2019\"\n",
    "df_2020['year'] = \"2020\""
   ]
  },
  {
   "cell_type": "code",
   "execution_count": 97,
   "metadata": {},
   "outputs": [],
   "source": [
    "# add column for user age\n",
    "df_2019['age'] = 2019 - df_2019['birth year']\n",
    "df_2020['age'] = 2020 - df_2020['birth year']"
   ]
  },
  {
   "cell_type": "code",
   "execution_count": 98,
   "metadata": {},
   "outputs": [
    {
     "data": {
      "text/html": [
       "<div>\n",
       "<style scoped>\n",
       "    .dataframe tbody tr th:only-of-type {\n",
       "        vertical-align: middle;\n",
       "    }\n",
       "\n",
       "    .dataframe tbody tr th {\n",
       "        vertical-align: top;\n",
       "    }\n",
       "\n",
       "    .dataframe thead th {\n",
       "        text-align: right;\n",
       "    }\n",
       "</style>\n",
       "<table border=\"1\" class=\"dataframe\">\n",
       "  <thead>\n",
       "    <tr style=\"text-align: right;\">\n",
       "      <th></th>\n",
       "      <th>tripduration</th>\n",
       "      <th>starttime</th>\n",
       "      <th>stoptime</th>\n",
       "      <th>start station id</th>\n",
       "      <th>start station name</th>\n",
       "      <th>start station latitude</th>\n",
       "      <th>start station longitude</th>\n",
       "      <th>end station id</th>\n",
       "      <th>end station name</th>\n",
       "      <th>end station latitude</th>\n",
       "      <th>end station longitude</th>\n",
       "      <th>bikeid</th>\n",
       "      <th>usertype</th>\n",
       "      <th>birth year</th>\n",
       "      <th>gender</th>\n",
       "      <th>year</th>\n",
       "      <th>age</th>\n",
       "    </tr>\n",
       "  </thead>\n",
       "  <tbody>\n",
       "    <tr>\n",
       "      <th>0</th>\n",
       "      <td>320</td>\n",
       "      <td>2019-01-01 00:01:47.4010</td>\n",
       "      <td>2019-01-01 00:07:07.5810</td>\n",
       "      <td>3160.0</td>\n",
       "      <td>Central Park West &amp; W 76 St</td>\n",
       "      <td>40.778968</td>\n",
       "      <td>-73.973747</td>\n",
       "      <td>3283.0</td>\n",
       "      <td>W 89 St &amp; Columbus Ave</td>\n",
       "      <td>40.788221</td>\n",
       "      <td>-73.970416</td>\n",
       "      <td>15839</td>\n",
       "      <td>Subscriber</td>\n",
       "      <td>1971</td>\n",
       "      <td>1</td>\n",
       "      <td>2019</td>\n",
       "      <td>48</td>\n",
       "    </tr>\n",
       "    <tr>\n",
       "      <th>1</th>\n",
       "      <td>316</td>\n",
       "      <td>2019-01-01 00:04:43.7360</td>\n",
       "      <td>2019-01-01 00:10:00.6080</td>\n",
       "      <td>519.0</td>\n",
       "      <td>Pershing Square North</td>\n",
       "      <td>40.751873</td>\n",
       "      <td>-73.977706</td>\n",
       "      <td>518.0</td>\n",
       "      <td>E 39 St &amp; 2 Ave</td>\n",
       "      <td>40.747804</td>\n",
       "      <td>-73.973442</td>\n",
       "      <td>32723</td>\n",
       "      <td>Subscriber</td>\n",
       "      <td>1964</td>\n",
       "      <td>1</td>\n",
       "      <td>2019</td>\n",
       "      <td>55</td>\n",
       "    </tr>\n",
       "    <tr>\n",
       "      <th>2</th>\n",
       "      <td>591</td>\n",
       "      <td>2019-01-01 00:06:03.9970</td>\n",
       "      <td>2019-01-01 00:15:55.4380</td>\n",
       "      <td>3171.0</td>\n",
       "      <td>Amsterdam Ave &amp; W 82 St</td>\n",
       "      <td>40.785247</td>\n",
       "      <td>-73.976673</td>\n",
       "      <td>3154.0</td>\n",
       "      <td>E 77 St &amp; 3 Ave</td>\n",
       "      <td>40.773142</td>\n",
       "      <td>-73.958562</td>\n",
       "      <td>27451</td>\n",
       "      <td>Subscriber</td>\n",
       "      <td>1987</td>\n",
       "      <td>1</td>\n",
       "      <td>2019</td>\n",
       "      <td>32</td>\n",
       "    </tr>\n",
       "    <tr>\n",
       "      <th>3</th>\n",
       "      <td>2719</td>\n",
       "      <td>2019-01-01 00:07:03.5450</td>\n",
       "      <td>2019-01-01 00:52:22.6500</td>\n",
       "      <td>504.0</td>\n",
       "      <td>1 Ave &amp; E 16 St</td>\n",
       "      <td>40.732219</td>\n",
       "      <td>-73.981656</td>\n",
       "      <td>3709.0</td>\n",
       "      <td>W 15 St &amp; 6 Ave</td>\n",
       "      <td>40.738046</td>\n",
       "      <td>-73.996430</td>\n",
       "      <td>21579</td>\n",
       "      <td>Subscriber</td>\n",
       "      <td>1990</td>\n",
       "      <td>1</td>\n",
       "      <td>2019</td>\n",
       "      <td>29</td>\n",
       "    </tr>\n",
       "    <tr>\n",
       "      <th>4</th>\n",
       "      <td>303</td>\n",
       "      <td>2019-01-01 00:07:35.9450</td>\n",
       "      <td>2019-01-01 00:12:39.5020</td>\n",
       "      <td>229.0</td>\n",
       "      <td>Great Jones St</td>\n",
       "      <td>40.727434</td>\n",
       "      <td>-73.993790</td>\n",
       "      <td>503.0</td>\n",
       "      <td>E 20 St &amp; Park Ave</td>\n",
       "      <td>40.738274</td>\n",
       "      <td>-73.987520</td>\n",
       "      <td>35379</td>\n",
       "      <td>Subscriber</td>\n",
       "      <td>1979</td>\n",
       "      <td>1</td>\n",
       "      <td>2019</td>\n",
       "      <td>40</td>\n",
       "    </tr>\n",
       "  </tbody>\n",
       "</table>\n",
       "</div>"
      ],
      "text/plain": [
       "   tripduration                 starttime                  stoptime  \\\n",
       "0           320  2019-01-01 00:01:47.4010  2019-01-01 00:07:07.5810   \n",
       "1           316  2019-01-01 00:04:43.7360  2019-01-01 00:10:00.6080   \n",
       "2           591  2019-01-01 00:06:03.9970  2019-01-01 00:15:55.4380   \n",
       "3          2719  2019-01-01 00:07:03.5450  2019-01-01 00:52:22.6500   \n",
       "4           303  2019-01-01 00:07:35.9450  2019-01-01 00:12:39.5020   \n",
       "\n",
       "   start station id           start station name  start station latitude  \\\n",
       "0            3160.0  Central Park West & W 76 St               40.778968   \n",
       "1             519.0        Pershing Square North               40.751873   \n",
       "2            3171.0      Amsterdam Ave & W 82 St               40.785247   \n",
       "3             504.0              1 Ave & E 16 St               40.732219   \n",
       "4             229.0               Great Jones St               40.727434   \n",
       "\n",
       "   start station longitude  end station id        end station name  \\\n",
       "0               -73.973747          3283.0  W 89 St & Columbus Ave   \n",
       "1               -73.977706           518.0         E 39 St & 2 Ave   \n",
       "2               -73.976673          3154.0         E 77 St & 3 Ave   \n",
       "3               -73.981656          3709.0         W 15 St & 6 Ave   \n",
       "4               -73.993790           503.0      E 20 St & Park Ave   \n",
       "\n",
       "   end station latitude  end station longitude  bikeid    usertype  \\\n",
       "0             40.788221             -73.970416   15839  Subscriber   \n",
       "1             40.747804             -73.973442   32723  Subscriber   \n",
       "2             40.773142             -73.958562   27451  Subscriber   \n",
       "3             40.738046             -73.996430   21579  Subscriber   \n",
       "4             40.738274             -73.987520   35379  Subscriber   \n",
       "\n",
       "   birth year  gender  year  age  \n",
       "0        1971       1  2019   48  \n",
       "1        1964       1  2019   55  \n",
       "2        1987       1  2019   32  \n",
       "3        1990       1  2019   29  \n",
       "4        1979       1  2019   40  "
      ]
     },
     "execution_count": 98,
     "metadata": {},
     "output_type": "execute_result"
    }
   ],
   "source": [
    "df = pd.concat([df_2019, df_2020])\n",
    "df.head()"
   ]
  },
  {
   "cell_type": "markdown",
   "metadata": {},
   "source": [
    "### Goal 2: find proportion of subscribers and customers"
   ]
  },
  {
   "cell_type": "code",
   "execution_count": 83,
   "metadata": {},
   "outputs": [],
   "source": [
    "# grouped = df.groupby([\"year\", \"usertype\"]).size().reset_index(name=\"count\")\n",
    "# grouped"
   ]
  },
  {
   "cell_type": "code",
   "execution_count": 84,
   "metadata": {},
   "outputs": [],
   "source": [
    "# print(\"Breakdown of 2019 users:\")\n",
    "# print(df['usertype'][df['year'] == '2019'].value_counts(normalize=True) * 100)\n",
    "# print(\"\\n\")\n",
    "# print(\"Breakdown of 2020 users:\")\n",
    "# print(df['usertype'][df['year'] == '2020'].value_counts(normalize=True) * 100)"
   ]
  },
  {
   "cell_type": "code",
   "execution_count": 85,
   "metadata": {},
   "outputs": [
    {
     "data": {
      "text/html": [
       "<div>\n",
       "<style scoped>\n",
       "    .dataframe tbody tr th:only-of-type {\n",
       "        vertical-align: middle;\n",
       "    }\n",
       "\n",
       "    .dataframe tbody tr th {\n",
       "        vertical-align: top;\n",
       "    }\n",
       "\n",
       "    .dataframe thead th {\n",
       "        text-align: right;\n",
       "    }\n",
       "</style>\n",
       "<table border=\"1\" class=\"dataframe\">\n",
       "  <thead>\n",
       "    <tr style=\"text-align: right;\">\n",
       "      <th></th>\n",
       "      <th>year</th>\n",
       "      <th>usertype</th>\n",
       "      <th>percentage</th>\n",
       "    </tr>\n",
       "  </thead>\n",
       "  <tbody>\n",
       "    <tr>\n",
       "      <th>0</th>\n",
       "      <td>2019</td>\n",
       "      <td>Customer</td>\n",
       "      <td>14.078468</td>\n",
       "    </tr>\n",
       "    <tr>\n",
       "      <th>1</th>\n",
       "      <td>2019</td>\n",
       "      <td>Subscriber</td>\n",
       "      <td>85.921532</td>\n",
       "    </tr>\n",
       "    <tr>\n",
       "      <th>2</th>\n",
       "      <td>2020</td>\n",
       "      <td>Customer</td>\n",
       "      <td>23.368617</td>\n",
       "    </tr>\n",
       "    <tr>\n",
       "      <th>3</th>\n",
       "      <td>2020</td>\n",
       "      <td>Subscriber</td>\n",
       "      <td>76.631383</td>\n",
       "    </tr>\n",
       "  </tbody>\n",
       "</table>\n",
       "</div>"
      ],
      "text/plain": [
       "   year    usertype  percentage\n",
       "0  2019    Customer   14.078468\n",
       "1  2019  Subscriber   85.921532\n",
       "2  2020    Customer   23.368617\n",
       "3  2020  Subscriber   76.631383"
      ]
     },
     "execution_count": 85,
     "metadata": {},
     "output_type": "execute_result"
    }
   ],
   "source": [
    "grouped_user = df.groupby(['year', 'usertype']).agg({'tripduration': 'count'})\n",
    "perc_user = grouped_user.groupby(level=0).apply(lambda x: 100 * x / float(x.sum()))\n",
    "perc_user = perc_user.reset_index()\n",
    "perc_user.columns = ['year', 'usertype', 'percentage']\n",
    "perc_user"
   ]
  },
  {
   "cell_type": "code",
   "execution_count": 87,
   "metadata": {},
   "outputs": [],
   "source": [
    "# fig = px.bar(perc_user, x=\"year\", y=\"percentage\", color=\"usertype\", \n",
    "#              color_discrete_sequence=['rgb(35,53,113)', 'rgb(0,161,225)'])\n",
    "# fig.update_xaxes(type='category')\n",
    "# fig.write_image(\"images/fig1.png\")\n",
    "# fig.show()"
   ]
  },
  {
   "cell_type": "markdown",
   "metadata": {},
   "source": [
    "Here, we see that"
   ]
  },
  {
   "cell_type": "markdown",
   "metadata": {},
   "source": [
    "### Goal 3: find breakdown of age and gender for users"
   ]
  },
  {
   "cell_type": "code",
   "execution_count": null,
   "metadata": {},
   "outputs": [],
   "source": [
    "# print average age of users for each gender\n",
    "print(df.groupby(['year','usertype'])['age'].mean())"
   ]
  },
  {
   "cell_type": "code",
   "execution_count": null,
   "metadata": {},
   "outputs": [],
   "source": [
    "# view proportion of genders\n",
    "print(\"Breakdown of 2019 users:\")\n",
    "print(df['gender'][df['year'] == '2019'].value_counts(normalize=True) * 100)\n",
    "print(\"\\n\")\n",
    "print(\"Breakdown of 2020 users:\")\n",
    "print(df['gender'][df['year'] == '2020'].value_counts(normalize=True) * 100)"
   ]
  },
  {
   "cell_type": "code",
   "execution_count": 221,
   "metadata": {},
   "outputs": [
    {
     "name": "stderr",
     "output_type": "stream",
     "text": [
      "/Users/laurentso/anaconda3/lib/python3.7/site-packages/ipykernel_launcher.py:3: SettingWithCopyWarning:\n",
      "\n",
      "\n",
      "A value is trying to be set on a copy of a slice from a DataFrame.\n",
      "Try using .loc[row_indexer,col_indexer] = value instead\n",
      "\n",
      "See the caveats in the documentation: https://pandas.pydata.org/pandas-docs/stable/user_guide/indexing.html#returning-a-view-versus-a-copy\n",
      "\n"
     ]
    },
    {
     "data": {
      "text/html": [
       "<div>\n",
       "<style scoped>\n",
       "    .dataframe tbody tr th:only-of-type {\n",
       "        vertical-align: middle;\n",
       "    }\n",
       "\n",
       "    .dataframe tbody tr th {\n",
       "        vertical-align: top;\n",
       "    }\n",
       "\n",
       "    .dataframe thead th {\n",
       "        text-align: right;\n",
       "    }\n",
       "</style>\n",
       "<table border=\"1\" class=\"dataframe\">\n",
       "  <thead>\n",
       "    <tr style=\"text-align: right;\">\n",
       "      <th></th>\n",
       "      <th>gender</th>\n",
       "      <th>year</th>\n",
       "      <th>age</th>\n",
       "      <th>usertype</th>\n",
       "      <th>Gender</th>\n",
       "    </tr>\n",
       "  </thead>\n",
       "  <tbody>\n",
       "    <tr>\n",
       "      <th>0</th>\n",
       "      <td>1</td>\n",
       "      <td>2019</td>\n",
       "      <td>48</td>\n",
       "      <td>Subscriber</td>\n",
       "      <td>Male</td>\n",
       "    </tr>\n",
       "    <tr>\n",
       "      <th>1</th>\n",
       "      <td>1</td>\n",
       "      <td>2019</td>\n",
       "      <td>55</td>\n",
       "      <td>Subscriber</td>\n",
       "      <td>Male</td>\n",
       "    </tr>\n",
       "    <tr>\n",
       "      <th>2</th>\n",
       "      <td>1</td>\n",
       "      <td>2019</td>\n",
       "      <td>32</td>\n",
       "      <td>Subscriber</td>\n",
       "      <td>Male</td>\n",
       "    </tr>\n",
       "    <tr>\n",
       "      <th>3</th>\n",
       "      <td>1</td>\n",
       "      <td>2019</td>\n",
       "      <td>29</td>\n",
       "      <td>Subscriber</td>\n",
       "      <td>Male</td>\n",
       "    </tr>\n",
       "    <tr>\n",
       "      <th>4</th>\n",
       "      <td>1</td>\n",
       "      <td>2019</td>\n",
       "      <td>40</td>\n",
       "      <td>Subscriber</td>\n",
       "      <td>Male</td>\n",
       "    </tr>\n",
       "  </tbody>\n",
       "</table>\n",
       "</div>"
      ],
      "text/plain": [
       "   gender  year  age    usertype Gender\n",
       "0       1  2019   48  Subscriber   Male\n",
       "1       1  2019   55  Subscriber   Male\n",
       "2       1  2019   32  Subscriber   Male\n",
       "3       1  2019   29  Subscriber   Male\n",
       "4       1  2019   40  Subscriber   Male"
      ]
     },
     "execution_count": 221,
     "metadata": {},
     "output_type": "execute_result"
    }
   ],
   "source": [
    "small = df[df['gender'] != 0]\n",
    "smaller = small[['gender', 'year', 'age', 'usertype']]\n",
    "smaller['Gender'] = np.where(smaller['gender'] == 1, 'Male', 'Female')\n",
    "smaller.head()"
   ]
  },
  {
   "cell_type": "code",
   "execution_count": 166,
   "metadata": {},
   "outputs": [
    {
     "data": {
      "text/html": [
       "<div>\n",
       "<style scoped>\n",
       "    .dataframe tbody tr th:only-of-type {\n",
       "        vertical-align: middle;\n",
       "    }\n",
       "\n",
       "    .dataframe tbody tr th {\n",
       "        vertical-align: top;\n",
       "    }\n",
       "\n",
       "    .dataframe thead th {\n",
       "        text-align: right;\n",
       "    }\n",
       "</style>\n",
       "<table border=\"1\" class=\"dataframe\">\n",
       "  <thead>\n",
       "    <tr style=\"text-align: right;\">\n",
       "      <th></th>\n",
       "      <th>year</th>\n",
       "      <th>Gender</th>\n",
       "      <th>percentage</th>\n",
       "    </tr>\n",
       "  </thead>\n",
       "  <tbody>\n",
       "    <tr>\n",
       "      <th>0</th>\n",
       "      <td>2019</td>\n",
       "      <td>Female</td>\n",
       "      <td>25.858129</td>\n",
       "    </tr>\n",
       "    <tr>\n",
       "      <th>1</th>\n",
       "      <td>2019</td>\n",
       "      <td>Male</td>\n",
       "      <td>74.141871</td>\n",
       "    </tr>\n",
       "    <tr>\n",
       "      <th>2</th>\n",
       "      <td>2020</td>\n",
       "      <td>Female</td>\n",
       "      <td>31.641039</td>\n",
       "    </tr>\n",
       "    <tr>\n",
       "      <th>3</th>\n",
       "      <td>2020</td>\n",
       "      <td>Male</td>\n",
       "      <td>68.358961</td>\n",
       "    </tr>\n",
       "  </tbody>\n",
       "</table>\n",
       "</div>"
      ],
      "text/plain": [
       "   year  Gender  percentage\n",
       "0  2019  Female   25.858129\n",
       "1  2019    Male   74.141871\n",
       "2  2020  Female   31.641039\n",
       "3  2020    Male   68.358961"
      ]
     },
     "execution_count": 166,
     "metadata": {},
     "output_type": "execute_result"
    }
   ],
   "source": [
    "grouped_user = smaller.groupby(['year', 'Gender']).agg({'age': 'count'})\n",
    "perc_user = grouped_user.groupby(level=0).apply(lambda x: 100 * x / float(x.sum()))\n",
    "perc_user = perc_user.reset_index()\n",
    "perc_user.columns = ['year', 'Gender', 'percentage']\n",
    "perc_user"
   ]
  },
  {
   "cell_type": "code",
   "execution_count": 167,
   "metadata": {},
   "outputs": [
    {
     "name": "stderr",
     "output_type": "stream",
     "text": [
      "\n",
      "KeyboardInterrupt\n",
      "\n"
     ]
    }
   ],
   "source": [
    "# plot percentage of genders\n",
    "# fig = px.bar(perc_user, x=\"year\", y=\"percentage\", color=\"Gender\", \n",
    "#               color_discrete_sequence=['rgb(35,53,113)', 'rgb(0,161,225)'])\n",
    "# fig.update_xaxes(type='category')\n",
    "# fig.write_image(\"images/fig2.png\")\n",
    "# fig.show()"
   ]
  },
  {
   "cell_type": "code",
   "execution_count": 172,
   "metadata": {},
   "outputs": [
    {
     "data": {
      "image/png": "[encoded data removed]",
      "text/plain": [
       "<Figure size 576x396 with 1 Axes>"
      ]
     },
     "metadata": {},
     "output_type": "display_data"
    }
   ],
   "source": [
    "# plot percentage of genders\n",
    "flatui = [\"#233571\", \"#00a1e1\"]\n",
    "bar = sns.barplot(x=\"year\", y=\"percentage\", hue='Gender', data=perc_user, \n",
    "                  ci=None, palette=sns.set_palette(flatui))\n",
    "fig = bar.get_figure()\n",
    "fig.savefig(\"images/fig2.png\")"
   ]
  },
  {
   "cell_type": "code",
   "execution_count": 158,
   "metadata": {},
   "outputs": [
    {
     "data": {
      "image/png": "[encoded data removed]",
      "text/plain": [
       "<Figure size 576x396 with 1 Axes>"
      ]
     },
     "metadata": {},
     "output_type": "display_data"
    }
   ],
   "source": [
    "box = sns.boxplot(x=\"year\", y=\"age\", hue=\"Gender\", data=smaller, palette=sns.set_palette(flatui))\n",
    "fig = box.get_figure()\n",
    "fig.savefig(\"images/fig3.png\")"
   ]
  },
  {
   "cell_type": "code",
   "execution_count": null,
   "metadata": {},
   "outputs": [],
   "source": [
    "# plot average age by usertype\n",
    "box = sns.boxplot(x=\"year\", y=\"age\", hue=\"usertype\", data=smaller, palette=sns.set_palette(flatui))\n",
    "fig = box.get_figure()\n",
    "fig.savefig(\"images/fig4.png\")"
   ]
  },
  {
   "cell_type": "code",
   "execution_count": null,
   "metadata": {},
   "outputs": [],
   "source": [
    "# plot percentage of genders\n",
    "flatui = [\"#233571\", \"#00a1e1\"]\n",
    "bar = sns.barplot(x=\"year\", y=\"percentage\", hue='usertype', data=smaller, \n",
    "                  ci=None, palette=sns.set_palette(flatui))\n",
    "fig = bar.get_figure()\n",
    "fig.savefig(\"images/fig2.png\")"
   ]
  },
  {
   "cell_type": "code",
   "execution_count": 228,
   "metadata": {},
   "outputs": [
    {
     "data": {
      "text/html": [
       "<div>\n",
       "<style scoped>\n",
       "    .dataframe tbody tr th:only-of-type {\n",
       "        vertical-align: middle;\n",
       "    }\n",
       "\n",
       "    .dataframe tbody tr th {\n",
       "        vertical-align: top;\n",
       "    }\n",
       "\n",
       "    .dataframe thead th {\n",
       "        text-align: right;\n",
       "    }\n",
       "</style>\n",
       "<table border=\"1\" class=\"dataframe\">\n",
       "  <thead>\n",
       "    <tr style=\"text-align: right;\">\n",
       "      <th></th>\n",
       "      <th>year</th>\n",
       "      <th>Gender</th>\n",
       "      <th>usertype</th>\n",
       "      <th>percentage</th>\n",
       "    </tr>\n",
       "  </thead>\n",
       "  <tbody>\n",
       "    <tr>\n",
       "      <th>0</th>\n",
       "      <td>2019</td>\n",
       "      <td>Female</td>\n",
       "      <td>Customer</td>\n",
       "      <td>36.401845</td>\n",
       "    </tr>\n",
       "    <tr>\n",
       "      <th>1</th>\n",
       "      <td>2019</td>\n",
       "      <td>Male</td>\n",
       "      <td>Customer</td>\n",
       "      <td>63.598155</td>\n",
       "    </tr>\n",
       "    <tr>\n",
       "      <th>2</th>\n",
       "      <td>2020</td>\n",
       "      <td>Female</td>\n",
       "      <td>Customer</td>\n",
       "      <td>41.580966</td>\n",
       "    </tr>\n",
       "    <tr>\n",
       "      <th>3</th>\n",
       "      <td>2020</td>\n",
       "      <td>Male</td>\n",
       "      <td>Customer</td>\n",
       "      <td>58.419034</td>\n",
       "    </tr>\n",
       "    <tr>\n",
       "      <th>0</th>\n",
       "      <td>2019</td>\n",
       "      <td>Female</td>\n",
       "      <td>Subscriber</td>\n",
       "      <td>24.887183</td>\n",
       "    </tr>\n",
       "  </tbody>\n",
       "</table>\n",
       "</div>"
      ],
      "text/plain": [
       "   year  Gender    usertype  percentage\n",
       "0  2019  Female    Customer   36.401845\n",
       "1  2019    Male    Customer   63.598155\n",
       "2  2020  Female    Customer   41.580966\n",
       "3  2020    Male    Customer   58.419034\n",
       "0  2019  Female  Subscriber   24.887183"
      ]
     },
     "execution_count": 228,
     "metadata": {},
     "output_type": "execute_result"
    }
   ],
   "source": [
    "smaller_c = smaller[smaller['usertype'] == 'Customer']\n",
    "smaller_s = smaller[smaller['usertype'] == 'Subscriber']\n",
    "\n",
    "grouped_user_c = smaller_c.groupby(['year', 'Gender', 'usertype']).agg({'age': 'count'})\n",
    "perc_user_c = grouped_user_c.groupby(level=0).apply(lambda x: 100 * x / float(x.sum()))\n",
    "perc_user_c = perc_user_c.reset_index()\n",
    "perc_user_c.columns = ['year', 'Gender', 'usertype', 'percentage']\n",
    "perc_user_c\n",
    "\n",
    "grouped_user_s = smaller_s.groupby(['year', 'Gender', 'usertype']).agg({'age': 'count'})\n",
    "perc_user_s = grouped_user_s.groupby(level=0).apply(lambda x: 100 * x / float(x.sum()))\n",
    "perc_user_s = perc_user_s.reset_index()\n",
    "perc_user_s.columns = ['year', 'Gender', 'usertype', 'percentage']\n",
    "perc_user_s\n",
    "\n",
    "perc_user = pd.concat([perc_user_c, perc_user_s])\n",
    "\n",
    "perc_user.head()"
   ]
  },
  {
   "cell_type": "code",
   "execution_count": 229,
   "metadata": {},
   "outputs": [
    {
     "data": {
      "text/html": [
       "<div>\n",
       "<style scoped>\n",
       "    .dataframe tbody tr th:only-of-type {\n",
       "        vertical-align: middle;\n",
       "    }\n",
       "\n",
       "    .dataframe tbody tr th {\n",
       "        vertical-align: top;\n",
       "    }\n",
       "\n",
       "    .dataframe thead th {\n",
       "        text-align: right;\n",
       "    }\n",
       "</style>\n",
       "<table border=\"1\" class=\"dataframe\">\n",
       "  <thead>\n",
       "    <tr style=\"text-align: right;\">\n",
       "      <th></th>\n",
       "      <th>year</th>\n",
       "      <th>Gender</th>\n",
       "      <th>usertype</th>\n",
       "      <th>percentage</th>\n",
       "    </tr>\n",
       "  </thead>\n",
       "  <tbody>\n",
       "    <tr>\n",
       "      <th>1</th>\n",
       "      <td>2019</td>\n",
       "      <td>Male</td>\n",
       "      <td>Customer</td>\n",
       "      <td>63.598155</td>\n",
       "    </tr>\n",
       "    <tr>\n",
       "      <th>3</th>\n",
       "      <td>2020</td>\n",
       "      <td>Male</td>\n",
       "      <td>Customer</td>\n",
       "      <td>58.419034</td>\n",
       "    </tr>\n",
       "    <tr>\n",
       "      <th>1</th>\n",
       "      <td>2019</td>\n",
       "      <td>Male</td>\n",
       "      <td>Subscriber</td>\n",
       "      <td>75.112817</td>\n",
       "    </tr>\n",
       "    <tr>\n",
       "      <th>3</th>\n",
       "      <td>2020</td>\n",
       "      <td>Male</td>\n",
       "      <td>Subscriber</td>\n",
       "      <td>70.173587</td>\n",
       "    </tr>\n",
       "  </tbody>\n",
       "</table>\n",
       "</div>"
      ],
      "text/plain": [
       "   year Gender    usertype  percentage\n",
       "1  2019   Male    Customer   63.598155\n",
       "3  2020   Male    Customer   58.419034\n",
       "1  2019   Male  Subscriber   75.112817\n",
       "3  2020   Male  Subscriber   70.173587"
      ]
     },
     "execution_count": 229,
     "metadata": {},
     "output_type": "execute_result"
    }
   ],
   "source": [
    "smallest = perc_user[perc_user['Gender'] == 'Male']\n",
    "smallest"
   ]
  },
  {
   "cell_type": "code",
   "execution_count": 232,
   "metadata": {},
   "outputs": [
    {
     "data": {
      "image/png": "[encoded data removed]",
      "text/plain": [
       "<Figure size 576x396 with 1 Axes>"
      ]
     },
     "metadata": {},
     "output_type": "display_data"
    }
   ],
   "source": [
    "# plot percentage of genders\n",
    "flatui = [\"#233571\", \"#00a1e1\"]\n",
    "bar = sns.barplot(x=\"year\", y=\"percentage\", hue='usertype', data=smallest, \n",
    "                  ci=None, palette=sns.set_palette(flatui))\n",
    "plt.ylabel(\"percentage of males\")\n",
    "fig = bar.get_figure()\n",
    "fig.savefig(\"images/fig5.png\")"
   ]
  }
 ],
 "metadata": {
  "kernelspec": {
   "display_name": "Python 3",
   "language": "python",
   "name": "python3"
  },
  "language_info": {
   "codemirror_mode": {
    "name": "ipython",
    "version": 3
   },
   "file_extension": ".py",
   "mimetype": "text/x-python",
   "name": "python",
   "nbconvert_exporter": "python",
   "pygments_lexer": "ipython3",
   "version": "3.7.4"
  }
 },
 "nbformat": 4,
 "nbformat_minor": 2
}
